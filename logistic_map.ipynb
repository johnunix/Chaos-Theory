{
  "nbformat": 4,
  "nbformat_minor": 0,
  "metadata": {
    "colab": {
      "provenance": [],
      "authorship_tag": "ABX9TyNUCYvY8tWDLLFWxijU0xWn",
      "include_colab_link": true
    },
    "kernelspec": {
      "name": "python3",
      "display_name": "Python 3"
    },
    "language_info": {
      "name": "python"
    },
    "widgets": {
      "application/vnd.jupyter.widget-state+json": {
        "586882c2f8eb4048b574cf1fdd08f6c9": {
          "model_module": "@jupyter-widgets/controls",
          "model_name": "VBoxModel",
          "model_module_version": "1.5.0",
          "state": {
            "_dom_classes": [
              "widget-interact"
            ],
            "_model_module": "@jupyter-widgets/controls",
            "_model_module_version": "1.5.0",
            "_model_name": "VBoxModel",
            "_view_count": null,
            "_view_module": "@jupyter-widgets/controls",
            "_view_module_version": "1.5.0",
            "_view_name": "VBoxView",
            "box_style": "",
            "children": [
              "IPY_MODEL_272440e0bce646e5a8d6c090ecf61e7a",
              "IPY_MODEL_351f0019d88b404f89ffe3e4c54e83ac",
              "IPY_MODEL_6e2f969bb8be407caec98e0aaa324654"
            ],
            "layout": "IPY_MODEL_2b16b10db0cf4b56ab5e07cd94a395ea"
          }
        },
        "272440e0bce646e5a8d6c090ecf61e7a": {
          "model_module": "@jupyter-widgets/controls",
          "model_name": "FloatSliderModel",
          "model_module_version": "1.5.0",
          "state": {
            "_dom_classes": [],
            "_model_module": "@jupyter-widgets/controls",
            "_model_module_version": "1.5.0",
            "_model_name": "FloatSliderModel",
            "_view_count": null,
            "_view_module": "@jupyter-widgets/controls",
            "_view_module_version": "1.5.0",
            "_view_name": "FloatSliderView",
            "continuous_update": true,
            "description": "r",
            "description_tooltip": null,
            "disabled": false,
            "layout": "IPY_MODEL_2a9d093106ad41239544fd4f545a3d43",
            "max": 4,
            "min": 0,
            "orientation": "horizontal",
            "readout": true,
            "readout_format": ".2f",
            "step": 0.01,
            "style": "IPY_MODEL_6ba76cb70d29467282b183c4ca74db8d",
            "value": 2.54
          }
        },
        "351f0019d88b404f89ffe3e4c54e83ac": {
          "model_module": "@jupyter-widgets/controls",
          "model_name": "FloatSliderModel",
          "model_module_version": "1.5.0",
          "state": {
            "_dom_classes": [],
            "_model_module": "@jupyter-widgets/controls",
            "_model_module_version": "1.5.0",
            "_model_name": "FloatSliderModel",
            "_view_count": null,
            "_view_module": "@jupyter-widgets/controls",
            "_view_module_version": "1.5.0",
            "_view_name": "FloatSliderView",
            "continuous_update": true,
            "description": "x0",
            "description_tooltip": null,
            "disabled": false,
            "layout": "IPY_MODEL_bec8fe42cf944f669d1a7f1fbfadd4b5",
            "max": 1,
            "min": 0,
            "orientation": "horizontal",
            "readout": true,
            "readout_format": ".2f",
            "step": 0.01,
            "style": "IPY_MODEL_69c75d3aef52453793a24f0e5fe91733",
            "value": 0.4
          }
        },
        "6e2f969bb8be407caec98e0aaa324654": {
          "model_module": "@jupyter-widgets/output",
          "model_name": "OutputModel",
          "model_module_version": "1.0.0",
          "state": {
            "_dom_classes": [],
            "_model_module": "@jupyter-widgets/output",
            "_model_module_version": "1.0.0",
            "_model_name": "OutputModel",
            "_view_count": null,
            "_view_module": "@jupyter-widgets/output",
            "_view_module_version": "1.0.0",
            "_view_name": "OutputView",
            "layout": "IPY_MODEL_cbec12dd652c467c99411dea8c8ddf96",
            "msg_id": "",
            "outputs": [
              {
                "output_type": "display_data",
                "data": {
                  "text/plain": "<Figure size 1000x600 with 1 Axes>",
                  "image/png": "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\n"
                },
                "metadata": {}
              }
            ]
          }
        },
        "2b16b10db0cf4b56ab5e07cd94a395ea": {
          "model_module": "@jupyter-widgets/base",
          "model_name": "LayoutModel",
          "model_module_version": "1.2.0",
          "state": {
            "_model_module": "@jupyter-widgets/base",
            "_model_module_version": "1.2.0",
            "_model_name": "LayoutModel",
            "_view_count": null,
            "_view_module": "@jupyter-widgets/base",
            "_view_module_version": "1.2.0",
            "_view_name": "LayoutView",
            "align_content": null,
            "align_items": null,
            "align_self": null,
            "border": null,
            "bottom": null,
            "display": null,
            "flex": null,
            "flex_flow": null,
            "grid_area": null,
            "grid_auto_columns": null,
            "grid_auto_flow": null,
            "grid_auto_rows": null,
            "grid_column": null,
            "grid_gap": null,
            "grid_row": null,
            "grid_template_areas": null,
            "grid_template_columns": null,
            "grid_template_rows": null,
            "height": null,
            "justify_content": null,
            "justify_items": null,
            "left": null,
            "margin": null,
            "max_height": null,
            "max_width": null,
            "min_height": null,
            "min_width": null,
            "object_fit": null,
            "object_position": null,
            "order": null,
            "overflow": null,
            "overflow_x": null,
            "overflow_y": null,
            "padding": null,
            "right": null,
            "top": null,
            "visibility": null,
            "width": null
          }
        },
        "2a9d093106ad41239544fd4f545a3d43": {
          "model_module": "@jupyter-widgets/base",
          "model_name": "LayoutModel",
          "model_module_version": "1.2.0",
          "state": {
            "_model_module": "@jupyter-widgets/base",
            "_model_module_version": "1.2.0",
            "_model_name": "LayoutModel",
            "_view_count": null,
            "_view_module": "@jupyter-widgets/base",
            "_view_module_version": "1.2.0",
            "_view_name": "LayoutView",
            "align_content": null,
            "align_items": null,
            "align_self": null,
            "border": null,
            "bottom": null,
            "display": null,
            "flex": null,
            "flex_flow": null,
            "grid_area": null,
            "grid_auto_columns": null,
            "grid_auto_flow": null,
            "grid_auto_rows": null,
            "grid_column": null,
            "grid_gap": null,
            "grid_row": null,
            "grid_template_areas": null,
            "grid_template_columns": null,
            "grid_template_rows": null,
            "height": null,
            "justify_content": null,
            "justify_items": null,
            "left": null,
            "margin": null,
            "max_height": null,
            "max_width": null,
            "min_height": null,
            "min_width": null,
            "object_fit": null,
            "object_position": null,
            "order": null,
            "overflow": null,
            "overflow_x": null,
            "overflow_y": null,
            "padding": null,
            "right": null,
            "top": null,
            "visibility": null,
            "width": null
          }
        },
        "6ba76cb70d29467282b183c4ca74db8d": {
          "model_module": "@jupyter-widgets/controls",
          "model_name": "SliderStyleModel",
          "model_module_version": "1.5.0",
          "state": {
            "_model_module": "@jupyter-widgets/controls",
            "_model_module_version": "1.5.0",
            "_model_name": "SliderStyleModel",
            "_view_count": null,
            "_view_module": "@jupyter-widgets/base",
            "_view_module_version": "1.2.0",
            "_view_name": "StyleView",
            "description_width": "",
            "handle_color": null
          }
        },
        "bec8fe42cf944f669d1a7f1fbfadd4b5": {
          "model_module": "@jupyter-widgets/base",
          "model_name": "LayoutModel",
          "model_module_version": "1.2.0",
          "state": {
            "_model_module": "@jupyter-widgets/base",
            "_model_module_version": "1.2.0",
            "_model_name": "LayoutModel",
            "_view_count": null,
            "_view_module": "@jupyter-widgets/base",
            "_view_module_version": "1.2.0",
            "_view_name": "LayoutView",
            "align_content": null,
            "align_items": null,
            "align_self": null,
            "border": null,
            "bottom": null,
            "display": null,
            "flex": null,
            "flex_flow": null,
            "grid_area": null,
            "grid_auto_columns": null,
            "grid_auto_flow": null,
            "grid_auto_rows": null,
            "grid_column": null,
            "grid_gap": null,
            "grid_row": null,
            "grid_template_areas": null,
            "grid_template_columns": null,
            "grid_template_rows": null,
            "height": null,
            "justify_content": null,
            "justify_items": null,
            "left": null,
            "margin": null,
            "max_height": null,
            "max_width": null,
            "min_height": null,
            "min_width": null,
            "object_fit": null,
            "object_position": null,
            "order": null,
            "overflow": null,
            "overflow_x": null,
            "overflow_y": null,
            "padding": null,
            "right": null,
            "top": null,
            "visibility": null,
            "width": null
          }
        },
        "69c75d3aef52453793a24f0e5fe91733": {
          "model_module": "@jupyter-widgets/controls",
          "model_name": "SliderStyleModel",
          "model_module_version": "1.5.0",
          "state": {
            "_model_module": "@jupyter-widgets/controls",
            "_model_module_version": "1.5.0",
            "_model_name": "SliderStyleModel",
            "_view_count": null,
            "_view_module": "@jupyter-widgets/base",
            "_view_module_version": "1.2.0",
            "_view_name": "StyleView",
            "description_width": "",
            "handle_color": null
          }
        },
        "cbec12dd652c467c99411dea8c8ddf96": {
          "model_module": "@jupyter-widgets/base",
          "model_name": "LayoutModel",
          "model_module_version": "1.2.0",
          "state": {
            "_model_module": "@jupyter-widgets/base",
            "_model_module_version": "1.2.0",
            "_model_name": "LayoutModel",
            "_view_count": null,
            "_view_module": "@jupyter-widgets/base",
            "_view_module_version": "1.2.0",
            "_view_name": "LayoutView",
            "align_content": null,
            "align_items": null,
            "align_self": null,
            "border": null,
            "bottom": null,
            "display": null,
            "flex": null,
            "flex_flow": null,
            "grid_area": null,
            "grid_auto_columns": null,
            "grid_auto_flow": null,
            "grid_auto_rows": null,
            "grid_column": null,
            "grid_gap": null,
            "grid_row": null,
            "grid_template_areas": null,
            "grid_template_columns": null,
            "grid_template_rows": null,
            "height": null,
            "justify_content": null,
            "justify_items": null,
            "left": null,
            "margin": null,
            "max_height": null,
            "max_width": null,
            "min_height": null,
            "min_width": null,
            "object_fit": null,
            "object_position": null,
            "order": null,
            "overflow": null,
            "overflow_x": null,
            "overflow_y": null,
            "padding": null,
            "right": null,
            "top": null,
            "visibility": null,
            "width": null
          }
        }
      }
    }
  },
  "cells": [
    {
      "cell_type": "markdown",
      "metadata": {
        "id": "view-in-github",
        "colab_type": "text"
      },
      "source": [
        "<a href=\"https://colab.research.google.com/github/johnunix/Chaos-Theory/blob/main/logistic_map.ipynb\" target=\"_parent\"><img src=\"https://colab.research.google.com/assets/colab-badge.svg\" alt=\"Open In Colab\"/></a>"
      ]
    },
    {
      "cell_type": "code",
      "execution_count": 7,
      "metadata": {
        "colab": {
          "base_uri": "https://localhost:8080/",
          "height": 715,
          "referenced_widgets": [
            "586882c2f8eb4048b574cf1fdd08f6c9",
            "272440e0bce646e5a8d6c090ecf61e7a",
            "351f0019d88b404f89ffe3e4c54e83ac",
            "6e2f969bb8be407caec98e0aaa324654",
            "2b16b10db0cf4b56ab5e07cd94a395ea",
            "2a9d093106ad41239544fd4f545a3d43",
            "6ba76cb70d29467282b183c4ca74db8d",
            "bec8fe42cf944f669d1a7f1fbfadd4b5",
            "69c75d3aef52453793a24f0e5fe91733",
            "cbec12dd652c467c99411dea8c8ddf96"
          ]
        },
        "id": "WpT76ru0unX0",
        "outputId": "d0391950-32d3-496c-ff4b-80770423c75a"
      },
      "outputs": [
        {
          "output_type": "display_data",
          "data": {
            "text/plain": [
              "interactive(children=(FloatSlider(value=3.7, description='r', max=4.0, step=0.01), FloatSlider(value=0.4, desc…"
            ],
            "application/vnd.jupyter.widget-view+json": {
              "version_major": 2,
              "version_minor": 0,
              "model_id": "586882c2f8eb4048b574cf1fdd08f6c9"
            }
          },
          "metadata": {}
        },
        {
          "output_type": "execute_result",
          "data": {
            "text/plain": [
              "<function __main__.plot_logistic_map(r, x0)>"
            ],
            "text/html": [
              "<div style=\"max-width:800px; border: 1px solid var(--colab-border-color);\"><style>\n",
              "      pre.function-repr-contents {\n",
              "        overflow-x: auto;\n",
              "        padding: 8px 12px;\n",
              "        max-height: 500px;\n",
              "      }\n",
              "\n",
              "      pre.function-repr-contents.function-repr-contents-collapsed {\n",
              "        cursor: pointer;\n",
              "        max-height: 100px;\n",
              "      }\n",
              "    </style>\n",
              "    <pre style=\"white-space: initial; background:\n",
              "         var(--colab-secondary-surface-color); padding: 8px 12px;\n",
              "         border-bottom: 1px solid var(--colab-border-color);\"><b>plot_logistic_map</b><br/>def plot_logistic_map(r, x0)</pre><pre class=\"function-repr-contents function-repr-contents-collapsed\" style=\"\"><a class=\"filepath\" style=\"display:none\" href=\"#\">/tmp/ipython-input-7-2785283285.py</a>&lt;no docstring&gt;</pre></div>"
            ]
          },
          "metadata": {},
          "execution_count": 7
        }
      ],
      "source": [
        "import numpy as np\n",
        "import matplotlib.pyplot as plt\n",
        "from ipywidgets import interact, FloatSlider\n",
        "from IPython.display import clear_output\n",
        "\n",
        "def logistic_map(r, x0, steps=50):\n",
        "    x = np.zeros(steps)\n",
        "    x[0] = x0\n",
        "    for i in range(1, steps):\n",
        "        x[i] = r * x[i-1] * (1 - x[i-1])\n",
        "    return x\n",
        "\n",
        "def plot_logistic_map(r, x0):\n",
        "    steps = 50\n",
        "    result = logistic_map(r, x0, steps)\n",
        "    clear_output(wait=True)  # Clear previous plot output smoothly\n",
        "    plt.figure(figsize=(10,6))\n",
        "    plt.plot(range(steps), result, marker='o', linestyle='-', markersize=3)\n",
        "    plt.title(f'Logistic Map Simulation (r={r:.2f}, x0={x0:.2f})')\n",
        "    plt.xlabel('Iteration')\n",
        "    plt.ylabel('x')\n",
        "    plt.grid(True)\n",
        "    plt.show()\n",
        "\n",
        "interact(\n",
        "    plot_logistic_map,\n",
        "    r=FloatSlider(value=3.7, min=0, max=4, step=0.01),\n",
        "    x0=FloatSlider(value=0.4, min=0, max=1, step=0.01)\n",
        ")\n"
      ]
    }
  ]
}