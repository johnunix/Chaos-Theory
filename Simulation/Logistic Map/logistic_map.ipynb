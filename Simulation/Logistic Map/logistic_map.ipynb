{
 "cells": [
  {
   "cell_type": "code",
   "execution_count": null,
   "id": "abc4baae",
   "metadata": {
    "lines_to_next_cell": 1
   },
   "outputs": [],
   "source": [
    "import numpy as np\n",
    "import matplotlib.pyplot as plt\n",
    "from matplotlib.widgets import Slider"
   ]
  },
  {
   "cell_type": "code",
   "execution_count": null,
   "id": "d6d29b8c",
   "metadata": {
    "lines_to_next_cell": 1
   },
   "outputs": [],
   "source": [
    "def logistic_map(r, x0, steps=100):\n",
    "    x = np.zeros(steps)\n",
    "    x[0] = x0\n",
    "    for i in range(1, steps):\n",
    "        x[i] = r * x[i-1] * (1 - x[i-1])\n",
    "    return x"
   ]
  },
  {
   "cell_type": "code",
   "execution_count": null,
   "id": "fba9e9b8",
   "metadata": {},
   "outputs": [],
   "source": [
    "# Initial parameters\n",
    "r_init = 3.7\n",
    "x0_init = 0.4\n",
    "steps = 100"
   ]
  },
  {
   "cell_type": "code",
   "execution_count": null,
   "id": "70f55624",
   "metadata": {},
   "outputs": [],
   "source": [
    "# Initial data\n",
    "result = logistic_map(r_init, x0_init, steps)"
   ]
  },
  {
   "cell_type": "code",
   "execution_count": null,
   "id": "a604ec6c",
   "metadata": {},
   "outputs": [],
   "source": [
    "# Create plot\n",
    "fig, ax = plt.subplots(figsize=(10, 6))\n",
    "plt.subplots_adjust(bottom=0.25)\n",
    "line, = ax.plot(range(steps), result, marker='o', linestyle='-', markersize=3)\n",
    "ax.set_title(f'Logistic Map Simulation (r={r_init}, x0={x0_init})')\n",
    "ax.set_xlabel('Iteration')\n",
    "ax.set_ylabel('x')\n",
    "ax.grid(True)"
   ]
  },
  {
   "cell_type": "code",
   "execution_count": null,
   "id": "c2ca30ea",
   "metadata": {},
   "outputs": [],
   "source": [
    "# Slider axes\n",
    "ax_r = plt.axes([0.15, 0.1, 0.65, 0.03])\n",
    "ax_x0 = plt.axes([0.15, 0.05, 0.65, 0.03])"
   ]
  },
  {
   "cell_type": "code",
   "execution_count": null,
   "id": "41098a04",
   "metadata": {
    "lines_to_next_cell": 1
   },
   "outputs": [],
   "source": [
    "# Create sliders\n",
    "slider_r = Slider(ax_r, 'Growth Rate r', 0.0, 4.0, valinit=r_init, valstep=0.01)\n",
    "slider_x0 = Slider(ax_x0, 'Initial x0', 0.0, 1.0, valinit=x0_init, valstep=0.01)"
   ]
  },
  {
   "cell_type": "code",
   "execution_count": null,
   "id": "ecaf3652",
   "metadata": {
    "lines_to_next_cell": 1
   },
   "outputs": [],
   "source": [
    "# Update function\n",
    "def update(val):\n",
    "    r = slider_r.val\n",
    "    x0 = slider_x0.val\n",
    "    ydata = logistic_map(r, x0, steps)\n",
    "    line.set_ydata(ydata)\n",
    "    ax.set_title(f'Logistic Map Simulation (r={r:.2f}, x0={x0:.2f})')\n",
    "    fig.canvas.draw_idle()"
   ]
  },
  {
   "cell_type": "code",
   "execution_count": null,
   "id": "cc4b0bcc",
   "metadata": {},
   "outputs": [],
   "source": [
    "# Connect sliders to update function\n",
    "slider_r.on_changed(update)\n",
    "slider_x0.on_changed(update)"
   ]
  },
  {
   "cell_type": "code",
   "execution_count": null,
   "id": "d9f373a0",
   "metadata": {},
   "outputs": [],
   "source": [
    "plt.show()"
   ]
  }
 ],
 "metadata": {
  "jupytext": {
   "cell_metadata_filter": "-all",
   "main_language": "python",
   "notebook_metadata_filter": "-all"
  }
 },
 "nbformat": 4,
 "nbformat_minor": 5
}
