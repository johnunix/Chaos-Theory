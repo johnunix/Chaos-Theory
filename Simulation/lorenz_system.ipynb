{
 "cells": [
  {
   "cell_type": "code",
   "execution_count": null,
   "id": "dd986ecb",
   "metadata": {},
   "outputs": [],
   "source": [
    "# Import all necessary libraries\n",
    "import numpy as np\n",
    "import matplotlib.pyplot as plt\n",
    "from matplotlib.widgets import Slider\n",
    "from matplotlib.animation import FuncAnimation\n",
    "from scipy.integrate import odeint\n",
    "from matplotlib.collections import LineCollection\n",
    "import matplotlib.colors as mcolors"
   ]
  },
  {
   "cell_type": "code",
   "execution_count": null,
   "id": "ed53f134",
   "metadata": {
    "lines_to_next_cell": 1
   },
   "outputs": [],
   "source": [
    "# Set up the Lorenz system parameters\n",
    "sigma = 10.0       # Prandtl number\n",
    "beta = 8.0 / 3.0   # Dimensionless parameter\n",
    "rho_init = 28.0    # Rayleigh number (initial value)"
   ]
  },
  {
   "cell_type": "code",
   "execution_count": null,
   "id": "806e8597",
   "metadata": {
    "lines_to_next_cell": 1
   },
   "outputs": [],
   "source": [
    "# Define the Lorenz system equations\n",
    "def lorenz_system(state, t, sigma, beta, rho):\n",
    "    x, y, z = state  # Unpack the state variables\n",
    "    dx_dt = sigma * (y - x)          # x change over time\n",
    "    dy_dt = x * (rho - z) - y        # y change over time\n",
    "    dz_dt = x * y - beta * z         # z change over time\n",
    "    return [dx_dt, dy_dt, dz_dt]"
   ]
  },
  {
   "cell_type": "code",
   "execution_count": null,
   "id": "6a6204df",
   "metadata": {
    "lines_to_next_cell": 1
   },
   "outputs": [],
   "source": [
    "# Function to compute the Lorenz attractor trajectory\n",
    "def compute_lorenz(rho):\n",
    "    # Start near the attractor (slightly off-center)\n",
    "    initial_state = [0.0, 1.0, 1.0]  \n",
    "    # Time points to solve for (40 seconds divided into 2000 steps)\n",
    "    time_points = np.linspace(0, 40, 2000)  \n",
    "    # Solve the differential equations\n",
    "    trajectory = odeint(lorenz_system, initial_state, time_points, \n",
    "                       args=(sigma, beta, rho))\n",
    "    return trajectory, time_points"
   ]
  },
  {
   "cell_type": "code",
   "execution_count": null,
   "id": "28de4fff",
   "metadata": {},
   "outputs": [],
   "source": [
    "# Calculate initial trajectory\n",
    "states, time_values = compute_lorenz(rho_init)"
   ]
  },
  {
   "cell_type": "code",
   "execution_count": null,
   "id": "70314b8a",
   "metadata": {},
   "outputs": [],
   "source": [
    "# Set up the figure and main plot area\n",
    "fig, ax = plt.subplots(figsize=(12, 8))"
   ]
  },
  {
   "cell_type": "code",
   "execution_count": null,
   "id": "f77f24b0",
   "metadata": {},
   "outputs": [],
   "source": [
    "# Make the plot look clean with integer ticks\n",
    "ax.xaxis.set_major_locator(plt.MaxNLocator(integer=True))\n",
    "ax.yaxis.set_major_locator(plt.MaxNLocator(integer=True))\n",
    "plt.xticks(fontsize=10)\n",
    "plt.yticks(fontsize=10)"
   ]
  },
  {
   "cell_type": "code",
   "execution_count": null,
   "id": "7a324cf9",
   "metadata": {},
   "outputs": [],
   "source": [
    "# Add a time display in the top-left corner\n",
    "time_display = ax.text(0.02, 0.95, '', transform=ax.transAxes, fontsize=14)\n",
    "plt.title(f\"Lorenz Attractor Butterfly Effect (ρ = {rho_init:.2f})\", fontsize=16)"
   ]
  },
  {
   "cell_type": "code",
   "execution_count": null,
   "id": "f7c21d8c",
   "metadata": {},
   "outputs": [],
   "source": [
    "# Adjust layout to make room for sliders\n",
    "plt.subplots_adjust(left=0.25, bottom=0.18)"
   ]
  },
  {
   "cell_type": "code",
   "execution_count": null,
   "id": "b81833db",
   "metadata": {},
   "outputs": [],
   "source": [
    "# Create sliders with a nice blue color scheme\n",
    "slider_blue = '#1f77b4'\n",
    "slider_track = '#d0e1f9'"
   ]
  },
  {
   "cell_type": "code",
   "execution_count": null,
   "id": "8fb63e72",
   "metadata": {},
   "outputs": [],
   "source": [
    "# Main parameter slider (ρ)\n",
    "rho_slider_ax = plt.axes([0.25, 0.12, 0.5, 0.02], facecolor=slider_track)\n",
    "rho_slider = Slider(rho_slider_ax, 'ρ Value', 0.1, 50.0, \n",
    "                   valinit=rho_init, valstep=0.1)\n",
    "rho_slider.poly.set_facecolor(slider_blue)  # Colored track\n",
    "rho_slider.ax.patches[0].set_facecolor(slider_blue)  # Handle color\n",
    "rho_slider.ax.patches[0].set_edgecolor('black')      # Handle border"
   ]
  },
  {
   "cell_type": "code",
   "execution_count": null,
   "id": "cd11e76b",
   "metadata": {},
   "outputs": [],
   "source": [
    "# Animation speed control\n",
    "speed_slider_ax = plt.axes([0.25, 0.08, 0.3, 0.015], facecolor=slider_track)\n",
    "speed_slider = Slider(speed_slider_ax, 'Animation Speed', 0.1, 5.0, \n",
    "                     valinit=1.0, valstep=0.1)\n",
    "speed_slider.poly.set_facecolor(slider_blue)\n",
    "speed_slider.ax.patches[0].set_facecolor(slider_blue)\n",
    "speed_slider.ax.patches[0].set_edgecolor('black')"
   ]
  },
  {
   "cell_type": "code",
   "execution_count": null,
   "id": "70c6f7a2",
   "metadata": {},
   "outputs": [],
   "source": [
    "# Set some breathing room around the attractor\n",
    "plot_margin = 4"
   ]
  },
  {
   "cell_type": "code",
   "execution_count": null,
   "id": "64640277",
   "metadata": {
    "lines_to_next_cell": 1
   },
   "outputs": [],
   "source": [
    "# Create a colorful line to show the trajectory\n",
    "color_gradient = plt.get_cmap('plasma')  # Vibrant color scheme\n",
    "trajectory_line = LineCollection([], linewidths=1.2, alpha=0.7, cmap=color_gradient)\n",
    "ax.add_collection(trajectory_line)"
   ]
  },
  {
   "cell_type": "code",
   "execution_count": null,
   "id": "aaafa29b",
   "metadata": {
    "lines_to_next_cell": 1
   },
   "outputs": [],
   "source": [
    "# Animation setup functions\n",
    "def setup_animation():\n",
    "    \"\"\"Initialize the animation with empty line\"\"\"\n",
    "    trajectory_line.set_segments([])\n",
    "    time_display.set_text('')\n",
    "    return trajectory_line, time_display"
   ]
  },
  {
   "cell_type": "code",
   "execution_count": null,
   "id": "1e46a9d8",
   "metadata": {
    "lines_to_next_cell": 1
   },
   "outputs": [],
   "source": [
    "def update_animation(frame):\n",
    "    \"\"\"Update the plot for each animation frame\"\"\"\n",
    "    if frame < 2:  # Skip first few frames\n",
    "        return trajectory_line, time_display\n",
    "    \n",
    "    # Get all points up to current frame\n",
    "    x_coords = states[:frame, 0]\n",
    "    y_coords = states[:frame, 1]\n",
    "    \n",
    "    # Convert points to line segments\n",
    "    points = np.array([x_coords, y_coords]).T\n",
    "    segments = np.stack([points[:-1], points[1:]], axis=1)\n",
    "    \n",
    "    # Update the line with new segments\n",
    "    trajectory_line.set_segments(segments)\n",
    "    \n",
    "    # Color the line based on time progression\n",
    "    color_values = np.linspace(0, frame - 1, frame - 1)\n",
    "    trajectory_line.set_array(color_values)\n",
    "    trajectory_line.set_norm(mcolors.Normalize(vmin=0, vmax=len(time_values)-1))\n",
    "    \n",
    "    # Update time display\n",
    "    current_time = time_values[frame]\n",
    "    time_display.set_text(f'Time: {current_time:.2f} seconds')\n",
    "    \n",
    "    return trajectory_line, time_display"
   ]
  },
  {
   "cell_type": "code",
   "execution_count": null,
   "id": "a28396bd",
   "metadata": {
    "lines_to_next_cell": 1
   },
   "outputs": [],
   "source": [
    "def change_parameter(param_value):\n",
    "    \"\"\"Recompute trajectory when ρ changes\"\"\"\n",
    "    global states, time_values\n",
    "    states, time_values = compute_lorenz(rho_slider.val)\n",
    "    ax.set_title(f\"Lorenz Attractor Butterfly Effect (ρ = {rho_slider.val:.2f})\", fontsize=16)\n",
    "    \n",
    "    # Adjust plot limits to fit new trajectory\n",
    "    x_min, x_max = states[:, 0].min(), states[:, 0].max()\n",
    "    y_min, y_max = states[:, 1].min(), states[:, 1].max()\n",
    "    ax.set_xlim(x_min - plot_margin, x_max + plot_margin)\n",
    "    ax.set_ylim(y_min - plot_margin, y_max + plot_margin)\n",
    "    \n",
    "    # Restart animation\n",
    "    animation.event_source.stop()\n",
    "    animation.event_source.start()"
   ]
  },
  {
   "cell_type": "code",
   "execution_count": null,
   "id": "5363b029",
   "metadata": {
    "lines_to_next_cell": 1
   },
   "outputs": [],
   "source": [
    "def change_speed(speed_value):\n",
    "    \"\"\"Adjust animation speed\"\"\"\n",
    "    animation.event_source.interval = int(15 / speed_slider.val)"
   ]
  },
  {
   "cell_type": "code",
   "execution_count": null,
   "id": "e97f576d",
   "metadata": {},
   "outputs": [],
   "source": [
    "# Connect sliders to their functions\n",
    "rho_slider.on_changed(change_parameter)\n",
    "speed_slider.on_changed(change_speed)"
   ]
  },
  {
   "cell_type": "code",
   "execution_count": null,
   "id": "80af0795",
   "metadata": {},
   "outputs": [],
   "source": [
    "# Set initial plot limits\n",
    "x_range = states[:, 0].min() - plot_margin, states[:, 0].max() + plot_margin\n",
    "y_range = states[:, 1].min() - plot_margin, states[:, 1].max() + plot_margin\n",
    "ax.set_xlim(x_range)\n",
    "ax.set_ylim(y_range)"
   ]
  },
  {
   "cell_type": "code",
   "execution_count": null,
   "id": "e2528bfb",
   "metadata": {},
   "outputs": [],
   "source": [
    "# Create and start the animation\n",
    "animation = FuncAnimation(fig, update_animation, \n",
    "                         frames=len(time_values),\n",
    "                         init_func=setup_animation, \n",
    "                         interval=15, \n",
    "                         blit=True)"
   ]
  },
  {
   "cell_type": "code",
   "execution_count": null,
   "id": "fca1aa1f",
   "metadata": {},
   "outputs": [],
   "source": [
    "# Show the interactive plot\n",
    "plt.show()"
   ]
  }
 ],
 "metadata": {
  "jupytext": {
   "cell_metadata_filter": "-all",
   "main_language": "python",
   "notebook_metadata_filter": "-all"
  }
 },
 "nbformat": 4,
 "nbformat_minor": 5
}
