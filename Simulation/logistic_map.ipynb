import json

notebook_content = {
 "cells": [
  {
   "cell_type": "code",
   "execution_count": None,
   "metadata": {},
   "outputs": [],
   "source": [
    "import numpy as np\n",
    "import matplotlib.pyplot as plt\n",
    "from ipywidgets import interact, FloatSlider\n",
    "\n",
    "def logistic_map(r, x0, steps=100):\n",
    "    x = np.zeros(steps)\n",
    "    x[0] = x0\n",
    "    for i in range(1, steps):\n",
    "        x[i] = r * x[i-1] * (1 - x[i-1])\n",
    "    return x\n",
    "\n",
    "def plot_logistic_map(r, x0):\n",
    "    steps = 100\n",
    "    result = logistic_map(r, x0, steps)\n",
    "    plt.figure(figsize=(10,6))\n",
    "    plt.plot(range(steps), result, marker='o', linestyle='-', markersize=3)\n",
    "    plt.title(f'Logistic Map Simulation (r={r:.2f}, x0={x0:.2f})')\n",
    "    plt.xlabel('Iteration')\n",
    "    plt.ylabel('x')\n",
    "    plt.grid(True)\n",
    "    plt.show()\n",
    "\n",
    "interact(\n",
    "    plot_logistic_map,\n",
    "    r=FloatSlider(value=3.7, min=0, max=4, step=0.01),\n",
    "    x0=FloatSlider(value=0.4, min=0, max=1, step=0.01)\n",
    ")"
   ]
  }
 ],
 "metadata": {
  "kernelspec": {
   "display_name": "Python 3",
   "language": "python",
   "name": "python3"
  },
  "language_info": {
   "codemirror_mode": {
    "name": "ipython",
    "version": 3
   },
   "file_extension": ".py",
   "mimetype": "text/x-python",
   "name": "python",
   "nbconvert_exporter": "python",
   "pygments_lexer": "ipython3",
   "version": "3.10.12"
  }
 },
 "nbformat": 4,
 "nbformat_minor": 5
}

# Save to file
file_path = '/mnt/data/logistic_map_interactive.ipynb'
with open(file_path, 'w') as f:
    json.dump(notebook_content, f)

file_path

