import numpy as np
import matplotlib.pyplot as plt
from ipywidgets import interact, FloatSlider

def logistic_map(r, x0, steps=100):
    x = np.zeros(steps)
    x[0] = x0
    for i in range(1, steps):
        x[i] = r * x[i-1] * (1 - x[i-1])
    return x

def plot_logistic_map(r, x0):
    steps = 100
    result = logistic_map(r, x0, steps)
    plt.figure(figsize=(10,6))
    plt.plot(range(steps), result, marker='o', linestyle='-', markersize=3)
    plt.title(f'Logistic Map Simulation (r={r:.2f}, x0={x0:.2f})')
    plt.xlabel('Iteration')
    plt.ylabel('x')
    plt.grid(True)
    plt.show()

interact(
    plot_logistic_map,
    r=FloatSlider(value=3.7, min=0, max=4, step=0.01),
    x0=FloatSlider(value=0.4, min=0, max=1, step=0.01)
)
