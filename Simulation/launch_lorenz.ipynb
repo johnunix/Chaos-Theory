!python lorenz_system.py
